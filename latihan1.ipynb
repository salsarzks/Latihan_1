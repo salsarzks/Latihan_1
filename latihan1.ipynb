{
 "cells": [
  {
   "cell_type": "code",
   "execution_count": 3,
   "id": "e3890e63",
   "metadata": {},
   "outputs": [
    {
     "name": "stdout",
     "output_type": "stream",
     "text": [
      "Salsa Rizkia Sabila\n",
      "Salsa Rizkia Sabila\n",
      "Salsa Rizkia Sabila\n",
      "Salsa Rizkia Sabila\n"
     ]
    }
   ],
   "source": [
    "print (\"Salsa Rizkia Sabila\")\n",
    "print (\"Salsa Rizkia Sabila\")\n",
    "print (\"Salsa Rizkia Sabila\")\n",
    "print (\"Salsa Rizkia Sabila\")"
   ]
  },
  {
   "cell_type": "code",
   "execution_count": 4,
   "id": "fe11b446",
   "metadata": {},
   "outputs": [
    {
     "name": "stdout",
     "output_type": "stream",
     "text": [
      "5\n"
     ]
    }
   ],
   "source": [
    "print (2+3)"
   ]
  },
  {
   "cell_type": "code",
   "execution_count": 7,
   "id": "d060d43d",
   "metadata": {},
   "outputs": [
    {
     "name": "stdout",
     "output_type": "stream",
     "text": [
      "hasil dari lebar adalah 50\n"
     ]
    }
   ],
   "source": [
    "panjang = 5\n",
    "lebar = 10\n",
    "print (\"hasil dari lebar adalah\", panjang*lebar)"
   ]
  },
  {
   "cell_type": "code",
   "execution_count": null,
   "id": "adef9014",
   "metadata": {},
   "outputs": [],
   "source": []
  }
 ],
 "metadata": {
  "kernelspec": {
   "display_name": "Python 3 (ipykernel)",
   "language": "python",
   "name": "python3"
  },
  "language_info": {
   "codemirror_mode": {
    "name": "ipython",
    "version": 3
   },
   "file_extension": ".py",
   "mimetype": "text/x-python",
   "name": "python",
   "nbconvert_exporter": "python",
   "pygments_lexer": "ipython3",
   "version": "3.9.12"
  }
 },
 "nbformat": 4,
 "nbformat_minor": 5
}
